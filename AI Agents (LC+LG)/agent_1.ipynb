{
 "cells": [
  {
   "cell_type": "code",
   "execution_count": 14,
   "id": "77ccabe4",
   "metadata": {},
   "outputs": [],
   "source": [
    "from typing import TypedDict,List\n",
    "from langchain_openai import ChatOpenAI\n",
    "from langchain_core.messages import HumanMessage\n",
    "from langgraph.graph import StateGraph,START,END\n",
    "from dotenv import load_dotenv"
   ]
  },
  {
   "cell_type": "code",
   "execution_count": 15,
   "id": "b4359cd8",
   "metadata": {},
   "outputs": [],
   "source": [
    "load_dotenv()\n",
    "\n",
    "model=ChatOpenAI()"
   ]
  },
  {
   "cell_type": "code",
   "execution_count": 16,
   "id": "ff26ae15",
   "metadata": {},
   "outputs": [],
   "source": [
    "class AgentState (TypedDict):\n",
    "    message :List[HumanMessage]\n",
    "\n",
    "def proces_query (state : AgentState) -> AgentState :\n",
    "    response =model.invoke(state['message'])\n",
    "    print(response.content)\n",
    "    return state\n"
   ]
  },
  {
   "cell_type": "code",
   "execution_count": 17,
   "id": "3cffab30",
   "metadata": {},
   "outputs": [],
   "source": [
    "graph= StateGraph(AgentState)\n",
    "graph.add_node('process',proces_query)\n",
    "graph.add_edge(START,'process')\n",
    "graph.add_edge('process',END)\n",
    "\n",
    "app=graph.compile()"
   ]
  },
  {
   "cell_type": "code",
   "execution_count": null,
   "id": "eaf81bb1",
   "metadata": {},
   "outputs": [
    {
     "name": "stdout",
     "output_type": "stream",
     "text": [
      "Hello! How can I assist you today?\n",
      "AI : hi\n",
      "Learning about Langchain and Langgraph can be beneficial for your projects in a few different ways:\n",
      "\n",
      "1. Improved data analysis: Langchain and Langgraph provide tools and techniques for analyzing and visualizing large amounts of data, which can help you make more informed decisions and identify patterns and trends in your data.\n",
      "\n",
      "2. Enhanced communication: The ability to understand and work with language data can help you communicate more effectively with others, especially in fields where language is a key component, such as natural language processing and machine translation.\n",
      "\n",
      "3. Better project management: By incorporating Langchain and Langgraph into your projects, you can streamline data processing and optimize workflows, leading to more efficient and successful project outcomes.\n",
      "\n",
      "Overall, learning about Langchain and Langgraph can help you gain valuable skills and insights that can enhance the quality and impact of your projects.\n",
      "AI : I wanna knoiw why should i learn langchain and langgraph for projects will ut help me \n",
      "Learning langgraph can be beneficial for a number of reasons:\n",
      "\n",
      "1. Communication: Langgraph is a visual language that can be used to effectively communicate ideas and concepts across different languages and cultures. Knowing langgraph can help you communicate more clearly and efficiently with others.\n",
      "\n",
      "2. Creativity: Langgraph allows for creative expression through its unique symbols and visual design. Learning langgraph can inspire creativity and help you think outside the box when it comes to communication.\n",
      "\n",
      "3. Problem-solving: Langgraph can be used to visually represent complex information and relationships, making it a useful tool for problem-solving and decision-making. By learning langgraph, you can improve your analytical and critical thinking skills.\n",
      "\n",
      "4. Accessibility: Langgraph can be a more accessible form of communication for people with certain disabilities, such as visual impairments. By learning langgraph, you can help make information more accessible to a wider audience.\n",
      "\n",
      "Overall, learning langgraph can be a valuable skill that can enhance your communication abilities, creativity, problem-solving skills, and accessibility to information.\n",
      "AI : why should i learn  langgraph \n",
      "Goodbye, Pratap! 👋\n"
     ]
    }
   ],
   "source": [
    "\n",
    "while user_input.strip().lower() != 'exit' :\n",
    "    user_input=input('Pratap:')\n",
    "    rslt= app.invoke({'message': [HumanMessage(content=user_input)]})\n",
    "    print(f\"AI : {rslt['message'][0].content}\")\n",
    "    \n",
    "print(\"Goodbye, Pratap! 👋\")\n"
   ]
  }
 ],
 "metadata": {
  "kernelspec": {
   "display_name": "venv",
   "language": "python",
   "name": "python3"
  },
  "language_info": {
   "codemirror_mode": {
    "name": "ipython",
    "version": 3
   },
   "file_extension": ".py",
   "mimetype": "text/x-python",
   "name": "python",
   "nbconvert_exporter": "python",
   "pygments_lexer": "ipython3",
   "version": "3.13.4"
  }
 },
 "nbformat": 4,
 "nbformat_minor": 5
}
